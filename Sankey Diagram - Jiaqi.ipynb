{
 "cells": [
  {
   "cell_type": "code",
   "execution_count": 1,
   "metadata": {},
   "outputs": [],
   "source": [
    "import pandas as pd\n",
    "import collections\n",
    "from ipysankeywidget import SankeyWidget\n",
    "\n",
    "'''\n",
    "From previous analysis, we have already get the top five starting stations and top seven ending stations in 22/08/2018.\n",
    "\n",
    "Now we want to use Sankey Diagram to visualize traffic flow among these starting and ending stations in this day.\n",
    "'''\n",
    "\n",
    "starting = ['EMBR','CIVC','MONT','POWL','12TH']\n",
    "ending = ['DUBL','BALB','24TH','PHIL','DELN','WCRK','FRMT']\n",
    "\n",
    "filename = r'D:\\1st Quarter\\ECE143\\Data\\HourlyRidership\\date-hour-soo-dest-2018.csv'\n",
    "fo = pd.read_csv(filename, index_col=0, header=None, names=['Date','Hour','Departing','Arriving','Count'])\n",
    "fo_find_date = fo.loc['2018-08-22']\n",
    "\n",
    "select_date = collections.OrderedDict()\n",
    "for i in starting:\n",
    "    select_date[i] = fo_find_date[fo_find_date.Departing == i]\n",
    "\n",
    "\n",
    "specific_start_end = collections.OrderedDict()\n",
    "startend_number = {}\n",
    "for start in starting:\n",
    "    for end in ending:\n",
    "        specific_start_end[start+end] = select_date[start][select_date[start].Arriving == end]\n",
    "        add_up = 0\n",
    "        for num in list(specific_start_end[start+end].Count):\n",
    "            add_up += num\n",
    "            startend_number[start+end] = add_up"
   ]
  },
  {
   "cell_type": "code",
   "execution_count": 2,
   "metadata": {},
   "outputs": [
    {
     "data": {
      "application/vnd.jupyter.widget-view+json": {
       "model_id": "daddd6450b524eb4a8ad559bb5a82523",
       "version_major": 2,
       "version_minor": 0
      },
      "text/plain": [
       "SankeyWidget(links=[{'source': 'EMBR', 'target': 'DUBL', 'value': 2374, 'color': 'grey'}, {'source': 'EMBR', '…"
      ]
     },
     "metadata": {},
     "output_type": "display_data"
    }
   ],
   "source": [
    "traffic_flow = []      \n",
    "for key in specific_start_end.keys():\n",
    "    sankey_dict = {}\n",
    "    sankey_dict['source'] = specific_start_end[key]['Departing'].iloc[0]    \n",
    "    sankey_dict['target'] = specific_start_end[key]['Arriving'].iloc[0]\n",
    "    sankey_dict['value'] = specific_start_end[key]['Count'].sum()\n",
    "    traffic_flow.append(sankey_dict)\n",
    "\n",
    "\n",
    "color = ['grey','darkgrey', 'dimgrey', 'lightgrey','silver']\n",
    "for col in color:    \n",
    "    for element in traffic_flow:\n",
    "        for i in range(5):\n",
    "            if element['source'] == starting[i]:\n",
    "                element['color'] = color[i]\n",
    "    \n",
    "\n",
    "s = SankeyWidget(links = traffic_flow,margins=dict(top=0, bottom=0,left=100,right=100))      \n",
    "s   "
   ]
  },
  {
   "cell_type": "code",
   "execution_count": 3,
   "metadata": {},
   "outputs": [
    {
     "data": {
      "application/vnd.jupyter.widget-view+json": {
       "model_id": "daddd6450b524eb4a8ad559bb5a82523",
       "version_major": 2,
       "version_minor": 0
      },
      "text/plain": [
       "SankeyWidget(links=[{'source': 'EMBR', 'target': 'DUBL', 'value': 2374, 'color': 'grey'}, {'source': 'EMBR', '…"
      ]
     },
     "metadata": {},
     "output_type": "display_data"
    }
   ],
   "source": [
    "s.auto_save_png('1.png')"
   ]
  }
 ],
 "metadata": {
  "kernelspec": {
   "display_name": "Python 3",
   "language": "python",
   "name": "python3"
  },
  "language_info": {
   "codemirror_mode": {
    "name": "ipython",
    "version": 3
   },
   "file_extension": ".py",
   "mimetype": "text/x-python",
   "name": "python",
   "nbconvert_exporter": "python",
   "pygments_lexer": "ipython3",
   "version": "3.6.5"
  }
 },
 "nbformat": 4,
 "nbformat_minor": 2
}
